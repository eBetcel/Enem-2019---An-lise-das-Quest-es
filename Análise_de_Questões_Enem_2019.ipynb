{
  "nbformat": 4,
  "nbformat_minor": 0,
  "metadata": {
    "colab": {
      "name": "Análise de Questões - Enem 2019",
      "provenance": [],
      "collapsed_sections": []
    },
    "kernelspec": {
      "name": "python3",
      "display_name": "Python 3"
    }
  },
  "cells": [
    {
      "cell_type": "markdown",
      "metadata": {
        "id": "9A5tzUcS-dD3",
        "colab_type": "text"
      },
      "source": [
        "# **Quantidade de questões do Enem 2019 por habilidades - Ciências Humanas**\n",
        "\n",
        "---\n",
        "\n"
      ]
    },
    {
      "cell_type": "markdown",
      "metadata": {
        "id": "Vv5sf-vj-FVY",
        "colab_type": "text"
      },
      "source": [
        "O ENEM possui [Matrizes de Referência](http://download.inep.gov.br/download/enem/matriz_referencia.pdf) para cada uma de suas áreas (Matemática, Linguagens e Códigos, Ciência Humanas, etc). Cada matriz, é formada por uma série de habilidades que estão associadas às competências cobradas no ENEM. Por exemplo, a habilidade H3 da Matriz de Matemática é Resolver situação-problema envolvendo conhecimentos numéricos. \n",
        "O objetivo dessa análise é explorar os [dados](http://inep.gov.br/microdados) disponibilizados pelo INEP para conferir quais foram as habilidades mais cobradas nesta edição na prova de Ciências Humanas.\n",
        "\n",
        "Este notebook foi inspirado em uma [playlist](https://www.youtube.com/playlist?list=PL5TJqBvpXQv5N3iV68bGBkea0HjMk98lR) da @kizzy_terra, do canal Programação Dinâmica"
      ]
    },
    {
      "cell_type": "markdown",
      "metadata": {
        "id": "UREYVDt9DUrO",
        "colab_type": "text"
      },
      "source": [
        "O primeiro passo é importar o pandas, matplotlib e o DataSet do ENEM 2019 diretamente do repositório do Github, lembrando de passar o parâmetro do separador como ';'"
      ]
    },
    {
      "cell_type": "code",
      "metadata": {
        "id": "oVP8ERyZDT4v",
        "colab_type": "code",
        "colab": {}
      },
      "source": [
        "import pandas as pd\n",
        "import matplotlib.pyplot as plt\n",
        "import seaborn as sns\n",
        "\n",
        "url = 'https://raw.githubusercontent.com/eBetcel/Enem-2019-exam-analysis/master/ITENS_PROVA_2019.csv'\n",
        "\n",
        "df = pd.read_csv(url, sep=';')\n"
      ],
      "execution_count": 113,
      "outputs": []
    },
    {
      "cell_type": "markdown",
      "metadata": {
        "id": "_0YQidCLKeqs",
        "colab_type": "text"
      },
      "source": [
        "Testando para conferir se deu tudo certo :)"
      ]
    },
    {
      "cell_type": "code",
      "metadata": {
        "id": "55ljCWwUKkAH",
        "colab_type": "code",
        "colab": {
          "base_uri": "https://localhost:8080/",
          "height": 204
        },
        "outputId": "58d80ae0-a1a1-4949-ea5a-e67e2c8f347c"
      },
      "source": [
        "df.head()"
      ],
      "execution_count": 102,
      "outputs": [
        {
          "output_type": "execute_result",
          "data": {
            "text/html": [
              "<div>\n",
              "<style scoped>\n",
              "    .dataframe tbody tr th:only-of-type {\n",
              "        vertical-align: middle;\n",
              "    }\n",
              "\n",
              "    .dataframe tbody tr th {\n",
              "        vertical-align: top;\n",
              "    }\n",
              "\n",
              "    .dataframe thead th {\n",
              "        text-align: right;\n",
              "    }\n",
              "</style>\n",
              "<table border=\"1\" class=\"dataframe\">\n",
              "  <thead>\n",
              "    <tr style=\"text-align: right;\">\n",
              "      <th></th>\n",
              "      <th>CO_POSICAO</th>\n",
              "      <th>SG_AREA</th>\n",
              "      <th>CO_ITEM</th>\n",
              "      <th>TX_GABARITO</th>\n",
              "      <th>CO_HABILIDADE</th>\n",
              "      <th>TX_COR</th>\n",
              "      <th>CO_PROVA</th>\n",
              "      <th>TP_LINGUA</th>\n",
              "      <th>IN_ITEM_ADAPTADO</th>\n",
              "    </tr>\n",
              "  </thead>\n",
              "  <tbody>\n",
              "    <tr>\n",
              "      <th>0</th>\n",
              "      <td>1</td>\n",
              "      <td>LC</td>\n",
              "      <td>55166</td>\n",
              "      <td>B</td>\n",
              "      <td>7</td>\n",
              "      <td>Azul</td>\n",
              "      <td>511</td>\n",
              "      <td>0.0</td>\n",
              "      <td>0</td>\n",
              "    </tr>\n",
              "    <tr>\n",
              "      <th>1</th>\n",
              "      <td>2</td>\n",
              "      <td>LC</td>\n",
              "      <td>54110</td>\n",
              "      <td>D</td>\n",
              "      <td>7</td>\n",
              "      <td>Azul</td>\n",
              "      <td>511</td>\n",
              "      <td>0.0</td>\n",
              "      <td>0</td>\n",
              "    </tr>\n",
              "    <tr>\n",
              "      <th>2</th>\n",
              "      <td>3</td>\n",
              "      <td>LC</td>\n",
              "      <td>23564</td>\n",
              "      <td>A</td>\n",
              "      <td>6</td>\n",
              "      <td>Azul</td>\n",
              "      <td>511</td>\n",
              "      <td>0.0</td>\n",
              "      <td>0</td>\n",
              "    </tr>\n",
              "    <tr>\n",
              "      <th>3</th>\n",
              "      <td>4</td>\n",
              "      <td>LC</td>\n",
              "      <td>31954</td>\n",
              "      <td>B</td>\n",
              "      <td>8</td>\n",
              "      <td>Azul</td>\n",
              "      <td>511</td>\n",
              "      <td>0.0</td>\n",
              "      <td>0</td>\n",
              "    </tr>\n",
              "    <tr>\n",
              "      <th>4</th>\n",
              "      <td>5</td>\n",
              "      <td>LC</td>\n",
              "      <td>118180</td>\n",
              "      <td>E</td>\n",
              "      <td>5</td>\n",
              "      <td>Azul</td>\n",
              "      <td>511</td>\n",
              "      <td>0.0</td>\n",
              "      <td>0</td>\n",
              "    </tr>\n",
              "  </tbody>\n",
              "</table>\n",
              "</div>"
            ],
            "text/plain": [
              "   CO_POSICAO SG_AREA  CO_ITEM  ... CO_PROVA  TP_LINGUA IN_ITEM_ADAPTADO\n",
              "0           1      LC    55166  ...      511        0.0                0\n",
              "1           2      LC    54110  ...      511        0.0                0\n",
              "2           3      LC    23564  ...      511        0.0                0\n",
              "3           4      LC    31954  ...      511        0.0                0\n",
              "4           5      LC   118180  ...      511        0.0                0\n",
              "\n",
              "[5 rows x 9 columns]"
            ]
          },
          "metadata": {
            "tags": []
          },
          "execution_count": 102
        }
      ]
    },
    {
      "cell_type": "markdown",
      "metadata": {
        "id": "hhIJ6LKTL8DV",
        "colab_type": "text"
      },
      "source": [
        "O nosso DataFrame contém as provas de todas as cores, mas só é necessário uma prova, já que as questões são as mesmas."
      ]
    },
    {
      "cell_type": "code",
      "metadata": {
        "id": "vqDWwm_WMoGV",
        "colab_type": "code",
        "colab": {
          "base_uri": "https://localhost:8080/",
          "height": 204
        },
        "outputId": "1dd88138-cd35-433b-af1e-2beb6457b123"
      },
      "source": [
        "df_amarela = df[(df['TX_COR'] == 'Amarela')]\n",
        "\n",
        "df_amarela.head()"
      ],
      "execution_count": 103,
      "outputs": [
        {
          "output_type": "execute_result",
          "data": {
            "text/html": [
              "<div>\n",
              "<style scoped>\n",
              "    .dataframe tbody tr th:only-of-type {\n",
              "        vertical-align: middle;\n",
              "    }\n",
              "\n",
              "    .dataframe tbody tr th {\n",
              "        vertical-align: top;\n",
              "    }\n",
              "\n",
              "    .dataframe thead th {\n",
              "        text-align: right;\n",
              "    }\n",
              "</style>\n",
              "<table border=\"1\" class=\"dataframe\">\n",
              "  <thead>\n",
              "    <tr style=\"text-align: right;\">\n",
              "      <th></th>\n",
              "      <th>CO_POSICAO</th>\n",
              "      <th>SG_AREA</th>\n",
              "      <th>CO_ITEM</th>\n",
              "      <th>TX_GABARITO</th>\n",
              "      <th>CO_HABILIDADE</th>\n",
              "      <th>TX_COR</th>\n",
              "      <th>CO_PROVA</th>\n",
              "      <th>TP_LINGUA</th>\n",
              "      <th>IN_ITEM_ADAPTADO</th>\n",
              "    </tr>\n",
              "  </thead>\n",
              "  <tbody>\n",
              "    <tr>\n",
              "      <th>50</th>\n",
              "      <td>1</td>\n",
              "      <td>LC</td>\n",
              "      <td>31954</td>\n",
              "      <td>B</td>\n",
              "      <td>8</td>\n",
              "      <td>Amarela</td>\n",
              "      <td>512</td>\n",
              "      <td>0.0</td>\n",
              "      <td>0</td>\n",
              "    </tr>\n",
              "    <tr>\n",
              "      <th>51</th>\n",
              "      <td>2</td>\n",
              "      <td>LC</td>\n",
              "      <td>55166</td>\n",
              "      <td>B</td>\n",
              "      <td>7</td>\n",
              "      <td>Amarela</td>\n",
              "      <td>512</td>\n",
              "      <td>0.0</td>\n",
              "      <td>0</td>\n",
              "    </tr>\n",
              "    <tr>\n",
              "      <th>52</th>\n",
              "      <td>3</td>\n",
              "      <td>LC</td>\n",
              "      <td>118180</td>\n",
              "      <td>E</td>\n",
              "      <td>5</td>\n",
              "      <td>Amarela</td>\n",
              "      <td>512</td>\n",
              "      <td>0.0</td>\n",
              "      <td>0</td>\n",
              "    </tr>\n",
              "    <tr>\n",
              "      <th>53</th>\n",
              "      <td>4</td>\n",
              "      <td>LC</td>\n",
              "      <td>54110</td>\n",
              "      <td>D</td>\n",
              "      <td>7</td>\n",
              "      <td>Amarela</td>\n",
              "      <td>512</td>\n",
              "      <td>0.0</td>\n",
              "      <td>0</td>\n",
              "    </tr>\n",
              "    <tr>\n",
              "      <th>54</th>\n",
              "      <td>5</td>\n",
              "      <td>LC</td>\n",
              "      <td>23564</td>\n",
              "      <td>A</td>\n",
              "      <td>6</td>\n",
              "      <td>Amarela</td>\n",
              "      <td>512</td>\n",
              "      <td>0.0</td>\n",
              "      <td>0</td>\n",
              "    </tr>\n",
              "  </tbody>\n",
              "</table>\n",
              "</div>"
            ],
            "text/plain": [
              "    CO_POSICAO SG_AREA  CO_ITEM  ... CO_PROVA  TP_LINGUA IN_ITEM_ADAPTADO\n",
              "50           1      LC    31954  ...      512        0.0                0\n",
              "51           2      LC    55166  ...      512        0.0                0\n",
              "52           3      LC   118180  ...      512        0.0                0\n",
              "53           4      LC    54110  ...      512        0.0                0\n",
              "54           5      LC    23564  ...      512        0.0                0\n",
              "\n",
              "[5 rows x 9 columns]"
            ]
          },
          "metadata": {
            "tags": []
          },
          "execution_count": 103
        }
      ]
    },
    {
      "cell_type": "markdown",
      "metadata": {
        "id": "hyZDQapFP0fq",
        "colab_type": "text"
      },
      "source": [
        "Aqui podemos ver que Linguagens e Códigos tem 10 questões a mais que as outras, isso ocorre devido às questões de língua estrangeira que o aluno escolhe 5 de Inglês ou de Espanhol."
      ]
    },
    {
      "cell_type": "code",
      "metadata": {
        "id": "4rINXuo1PIw9",
        "colab_type": "code",
        "colab": {
          "base_uri": "https://localhost:8080/",
          "height": 204
        },
        "outputId": "906d7a59-da71-4ca3-f2ae-b8b7e3c9b647"
      },
      "source": [
        "df_amarela.groupby('SG_AREA').count()"
      ],
      "execution_count": 16,
      "outputs": [
        {
          "output_type": "execute_result",
          "data": {
            "text/html": [
              "<div>\n",
              "<style scoped>\n",
              "    .dataframe tbody tr th:only-of-type {\n",
              "        vertical-align: middle;\n",
              "    }\n",
              "\n",
              "    .dataframe tbody tr th {\n",
              "        vertical-align: top;\n",
              "    }\n",
              "\n",
              "    .dataframe thead th {\n",
              "        text-align: right;\n",
              "    }\n",
              "</style>\n",
              "<table border=\"1\" class=\"dataframe\">\n",
              "  <thead>\n",
              "    <tr style=\"text-align: right;\">\n",
              "      <th></th>\n",
              "      <th>CO_POSICAO</th>\n",
              "      <th>CO_ITEM</th>\n",
              "      <th>TX_GABARITO</th>\n",
              "      <th>CO_HABILIDADE</th>\n",
              "      <th>TX_COR</th>\n",
              "      <th>CO_PROVA</th>\n",
              "      <th>TP_LINGUA</th>\n",
              "      <th>IN_ITEM_ADAPTADO</th>\n",
              "    </tr>\n",
              "    <tr>\n",
              "      <th>SG_AREA</th>\n",
              "      <th></th>\n",
              "      <th></th>\n",
              "      <th></th>\n",
              "      <th></th>\n",
              "      <th></th>\n",
              "      <th></th>\n",
              "      <th></th>\n",
              "      <th></th>\n",
              "    </tr>\n",
              "  </thead>\n",
              "  <tbody>\n",
              "    <tr>\n",
              "      <th>CH</th>\n",
              "      <td>90</td>\n",
              "      <td>90</td>\n",
              "      <td>90</td>\n",
              "      <td>90</td>\n",
              "      <td>90</td>\n",
              "      <td>90</td>\n",
              "      <td>0</td>\n",
              "      <td>90</td>\n",
              "    </tr>\n",
              "    <tr>\n",
              "      <th>CN</th>\n",
              "      <td>90</td>\n",
              "      <td>90</td>\n",
              "      <td>90</td>\n",
              "      <td>90</td>\n",
              "      <td>90</td>\n",
              "      <td>90</td>\n",
              "      <td>0</td>\n",
              "      <td>90</td>\n",
              "    </tr>\n",
              "    <tr>\n",
              "      <th>LC</th>\n",
              "      <td>100</td>\n",
              "      <td>100</td>\n",
              "      <td>100</td>\n",
              "      <td>100</td>\n",
              "      <td>100</td>\n",
              "      <td>100</td>\n",
              "      <td>20</td>\n",
              "      <td>100</td>\n",
              "    </tr>\n",
              "    <tr>\n",
              "      <th>MT</th>\n",
              "      <td>90</td>\n",
              "      <td>90</td>\n",
              "      <td>90</td>\n",
              "      <td>90</td>\n",
              "      <td>90</td>\n",
              "      <td>90</td>\n",
              "      <td>0</td>\n",
              "      <td>90</td>\n",
              "    </tr>\n",
              "  </tbody>\n",
              "</table>\n",
              "</div>"
            ],
            "text/plain": [
              "         CO_POSICAO  CO_ITEM  ...  TP_LINGUA  IN_ITEM_ADAPTADO\n",
              "SG_AREA                       ...                             \n",
              "CH               90       90  ...          0                90\n",
              "CN               90       90  ...          0                90\n",
              "LC              100      100  ...         20               100\n",
              "MT               90       90  ...          0                90\n",
              "\n",
              "[4 rows x 8 columns]"
            ]
          },
          "metadata": {
            "tags": []
          },
          "execution_count": 16
        }
      ]
    },
    {
      "cell_type": "markdown",
      "metadata": {
        "id": "Jhftbac0XAC_",
        "colab_type": "text"
      },
      "source": [
        "Sendo assim, agora podemos procurar pelas habilidades de cada prova, criando um DataFrame para cada Matriz."
      ]
    },
    {
      "cell_type": "code",
      "metadata": {
        "id": "jG-Mo4f-Q8qJ",
        "colab_type": "code",
        "colab": {}
      },
      "source": [
        "#Linguagens e Códigos\n",
        "df_lc = df_amarela[(df_amarela['SG_AREA'] == 'LC')]\n",
        "#Ciências Humanas\n",
        "df_ch = df_amarela[(df_amarela['SG_AREA'] == 'CH')]\n",
        "#Ciências da Natureza\n",
        "df_cn = df_amarela[(df_amarela['SG_AREA'] == 'CN')]\n",
        "#Matemática\n",
        "df_mt = df_amarela[(df_amarela['SG_AREA'] == 'MT')]"
      ],
      "execution_count": 104,
      "outputs": []
    },
    {
      "cell_type": "markdown",
      "metadata": {
        "id": "8fwCuIhuSgOU",
        "colab_type": "text"
      },
      "source": [
        "Como só nos interessa analisar a prova de Ciências Humanas, criamos uma série com as habilidades de cada questão."
      ]
    },
    {
      "cell_type": "code",
      "metadata": {
        "id": "f2vPfkCrSyUX",
        "colab_type": "code",
        "colab": {}
      },
      "source": [
        "ch = df_ch['CO_HABILIDADE'].sort_values()\n"
      ],
      "execution_count": 74,
      "outputs": []
    },
    {
      "cell_type": "markdown",
      "metadata": {
        "id": "bubQWrpAcOLP",
        "colab_type": "text"
      },
      "source": [
        "Agora é possível achar a habilidade que foi mais cobrada, basta calcular a moda dessa série. Assim, descobrimos que temos 3 habilidades empatadas como as que mais caíram na prova.\n",
        "São elas:\n",
        "\n",
        "\n",
        "*   H11 – Identificar registros de práticas de grupos sociais no tempo e no espaço.\n",
        "*   H15 – Avaliar criticamente conflitos culturais, sociais, políticos, econômicos ou ambientais ao longo da história.\n",
        "*   H23 – Analisar a importância dos valores éticos na estruturação política das sociedades.\n"
      ]
    },
    {
      "cell_type": "code",
      "metadata": {
        "id": "MajFElIxccOP",
        "colab_type": "code",
        "colab": {
          "base_uri": "https://localhost:8080/",
          "height": 85
        },
        "outputId": "5514b2c9-3b8d-4a99-abb2-d3e9f52822a1"
      },
      "source": [
        "ch.mode()"
      ],
      "execution_count": 105,
      "outputs": [
        {
          "output_type": "execute_result",
          "data": {
            "text/plain": [
              "0    11\n",
              "1    15\n",
              "2    23\n",
              "dtype: int64"
            ]
          },
          "metadata": {
            "tags": []
          },
          "execution_count": 105
        }
      ]
    },
    {
      "cell_type": "markdown",
      "metadata": {
        "id": "Du79SbmYelwf",
        "colab_type": "text"
      },
      "source": [
        "Para descobrir quantas foram as questões dessas habilidades que mais caíram basta utilizar o método count_values() e saber a ocorrência de cada habilidade. Assim, descobrimos que cada uma dessas três habilidades caiu em 6 questões diferentes. Também foi possível verificar que três competências só tiveram 1 questão."
      ]
    },
    {
      "cell_type": "code",
      "metadata": {
        "id": "a5sB-LLlcrth",
        "colab_type": "code",
        "colab": {
          "base_uri": "https://localhost:8080/",
          "height": 544
        },
        "outputId": "54b377f5-031e-4aad-fd4d-02b495bf6dcc"
      },
      "source": [
        "ch.value_counts()"
      ],
      "execution_count": 106,
      "outputs": [
        {
          "output_type": "execute_result",
          "data": {
            "text/plain": [
              "15    6\n",
              "23    6\n",
              "11    6\n",
              "2     4\n",
              "5     4\n",
              "7     4\n",
              "8     4\n",
              "1     4\n",
              "27    4\n",
              "26    4\n",
              "24    3\n",
              "20    3\n",
              "3     3\n",
              "17    3\n",
              "4     3\n",
              "6     3\n",
              "12    3\n",
              "9     2\n",
              "28    2\n",
              "22    2\n",
              "21    2\n",
              "14    2\n",
              "29    2\n",
              "16    2\n",
              "18    2\n",
              "19    2\n",
              "30    2\n",
              "10    1\n",
              "25    1\n",
              "13    1\n",
              "Name: CO_HABILIDADE, dtype: int64"
            ]
          },
          "metadata": {
            "tags": []
          },
          "execution_count": 106
        }
      ]
    },
    {
      "cell_type": "markdown",
      "metadata": {
        "id": "jGdLEpQ8i2xf",
        "colab_type": "text"
      },
      "source": [
        "Por último, podemos criar um histograma para ter uma melhor representação visual do que foi descoberto"
      ]
    },
    {
      "cell_type": "code",
      "metadata": {
        "id": "elJMrPHuku84",
        "colab_type": "code",
        "colab": {
          "base_uri": "https://localhost:8080/",
          "height": 647
        },
        "outputId": "5e2627b3-64a1-429a-fe03-f18e7f266808"
      },
      "source": [
        "sns.set()\n",
        "ch.astype(str).hist(bins=30, histtype = 'barstacked', figsize=(24,12))\n",
        "plt.title(\"Número de Questões de cada Habilidade no ENEM 2019\")\n",
        "plt.ylabel('Quantidade de Questões')\n",
        "plt.xlabel('Habilidades')\n"
      ],
      "execution_count": 165,
      "outputs": [
        {
          "output_type": "execute_result",
          "data": {
            "text/plain": [
              "Text(0.5, 0, 'Habilidades')"
            ]
          },
          "metadata": {
            "tags": []
          },
          "execution_count": 165
        },
        {
          "output_type": "display_data",
          "data": {
            "image/png": "[encoded data removed]",
            "text/plain": [
              "<Figure size 1728x864 with 1 Axes>"
            ]
          },
          "metadata": {
            "tags": []
          }
        }
      ]
    },
    {
      "cell_type": "code",
      "metadata": {
        "id": "537gEkdQtJPm",
        "colab_type": "code",
        "colab": {}
      },
      "source": [
        ""
      ],
      "execution_count": null,
      "outputs": []
    }
  ]
}