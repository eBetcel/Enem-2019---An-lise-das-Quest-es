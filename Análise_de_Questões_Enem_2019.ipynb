{
  "nbformat": 4,
  "nbformat_minor": 0,
  "metadata": {
    "colab": {
      "name": "Análise de Questões - Enem 2019",
      "provenance": [],
      "collapsed_sections": [],
      "authorship_tag": "ABX9TyOYJk+FuGvdxQTSe3efOhN5",
      "include_colab_link": true
    },
    "kernelspec": {
      "name": "python3",
      "display_name": "Python 3"
    }
  },
  "cells": [
    {
      "cell_type": "markdown",
      "metadata": {
        "id": "view-in-github",
        "colab_type": "text"
      },
      "source": [
        "<a href=\"https://colab.research.google.com/github/eBetcel/Enem-2019-exam-analysis/blob/master/An%C3%A1lise_de_Quest%C3%B5es_Enem_2019.ipynb\" target=\"_parent\"><img src=\"https://colab.research.google.com/assets/colab-badge.svg\" alt=\"Open In Colab\"/></a>"
      ]
    },
    {
      "cell_type": "markdown",
      "metadata": {
        "id": "9A5tzUcS-dD3",
        "colab_type": "text"
      },
      "source": [
        "# **Quantidade de questões do Enem 2019 por habilidades - Ciências Humanas**\n",
        "\n",
        "---\n",
        "\n"
      ]
    },
    {
      "cell_type": "markdown",
      "metadata": {
        "id": "Vv5sf-vj-FVY",
        "colab_type": "text"
      },
      "source": [
        "O ENEM possui [Matrizes de Referência](http://download.inep.gov.br/download/enem/matriz_referencia.pdf) para cada uma de suas áreas (Matemática, Linguagens e Códigos, Ciência Humanas, etc). Cada matriz, é formada por uma série de habilidades que estão associadas às competências cobradas no ENEM. Por exemplo, a habilidade H3 da Matriz de Matemática é Resolver situação-problema envolvendo conhecimentos numéricos. \n",
        "O objetivo dessa análise é explorar os [dados](http://inep.gov.br/microdados) disponibilizados pelo INEP para conferir quais foram as habilidades mais cobradas nesta edição na prova de Ciências Humanas.\n",
        "\n",
        "Este notebook foi inspirado em uma [playlist](https://www.youtube.com/playlist?list=PL5TJqBvpXQv5N3iV68bGBkea0HjMk98lR) da @kizzy_terra, do canal Programação Dinâmica"
      ]
    },
    {
      "cell_type": "markdown",
      "metadata": {
        "id": "UREYVDt9DUrO",
        "colab_type": "text"
      },
      "source": [
        "O primeiro passo é importar o pandas, matplotlib e o DataSet do ENEM 2019 diretamente do repositório do Github, lembrando de passar o parâmetro do separador como ';'"
      ]
    },
    {
      "cell_type": "code",
      "metadata": {
        "id": "oVP8ERyZDT4v",
        "colab_type": "code",
        "colab": {}
      },
      "source": [
        "import pandas as pd\n",
        "import matplotlib as plt\n",
        "\n",
        "\n",
        "url = 'https://raw.githubusercontent.com/eBetcel/Enem-2019-exam-analysis/master/ITENS_PROVA_2019.csv'\n",
        "\n",
        "df = pd.read_csv(url, sep=';')\n"
      ],
      "execution_count": 30,
      "outputs": []
    },
    {
      "cell_type": "markdown",
      "metadata": {
        "id": "_0YQidCLKeqs",
        "colab_type": "text"
      },
      "source": [
        "Testando para conferir se deu tudo certo :)"
      ]
    },
    {
      "cell_type": "code",
      "metadata": {
        "id": "55ljCWwUKkAH",
        "colab_type": "code",
        "colab": {
          "base_uri": "https://localhost:8080/",
          "height": 204
        },
        "outputId": "00a6e884-da93-4d24-c0aa-0eead818db6b"
      },
      "source": [
        "df.head()"
      ],
      "execution_count": 7,
      "outputs": [
        {
          "output_type": "execute_result",
          "data": {
            "text/html": [
              "<div>\n",
              "<style scoped>\n",
              "    .dataframe tbody tr th:only-of-type {\n",
              "        vertical-align: middle;\n",
              "    }\n",
              "\n",
              "    .dataframe tbody tr th {\n",
              "        vertical-align: top;\n",
              "    }\n",
              "\n",
              "    .dataframe thead th {\n",
              "        text-align: right;\n",
              "    }\n",
              "</style>\n",
              "<table border=\"1\" class=\"dataframe\">\n",
              "  <thead>\n",
              "    <tr style=\"text-align: right;\">\n",
              "      <th></th>\n",
              "      <th>CO_POSICAO</th>\n",
              "      <th>SG_AREA</th>\n",
              "      <th>CO_ITEM</th>\n",
              "      <th>TX_GABARITO</th>\n",
              "      <th>CO_HABILIDADE</th>\n",
              "      <th>TX_COR</th>\n",
              "      <th>CO_PROVA</th>\n",
              "      <th>TP_LINGUA</th>\n",
              "      <th>IN_ITEM_ADAPTADO</th>\n",
              "    </tr>\n",
              "  </thead>\n",
              "  <tbody>\n",
              "    <tr>\n",
              "      <th>0</th>\n",
              "      <td>1</td>\n",
              "      <td>LC</td>\n",
              "      <td>55166</td>\n",
              "      <td>B</td>\n",
              "      <td>7</td>\n",
              "      <td>Azul</td>\n",
              "      <td>511</td>\n",
              "      <td>0.0</td>\n",
              "      <td>0</td>\n",
              "    </tr>\n",
              "    <tr>\n",
              "      <th>1</th>\n",
              "      <td>2</td>\n",
              "      <td>LC</td>\n",
              "      <td>54110</td>\n",
              "      <td>D</td>\n",
              "      <td>7</td>\n",
              "      <td>Azul</td>\n",
              "      <td>511</td>\n",
              "      <td>0.0</td>\n",
              "      <td>0</td>\n",
              "    </tr>\n",
              "    <tr>\n",
              "      <th>2</th>\n",
              "      <td>3</td>\n",
              "      <td>LC</td>\n",
              "      <td>23564</td>\n",
              "      <td>A</td>\n",
              "      <td>6</td>\n",
              "      <td>Azul</td>\n",
              "      <td>511</td>\n",
              "      <td>0.0</td>\n",
              "      <td>0</td>\n",
              "    </tr>\n",
              "    <tr>\n",
              "      <th>3</th>\n",
              "      <td>4</td>\n",
              "      <td>LC</td>\n",
              "      <td>31954</td>\n",
              "      <td>B</td>\n",
              "      <td>8</td>\n",
              "      <td>Azul</td>\n",
              "      <td>511</td>\n",
              "      <td>0.0</td>\n",
              "      <td>0</td>\n",
              "    </tr>\n",
              "    <tr>\n",
              "      <th>4</th>\n",
              "      <td>5</td>\n",
              "      <td>LC</td>\n",
              "      <td>118180</td>\n",
              "      <td>E</td>\n",
              "      <td>5</td>\n",
              "      <td>Azul</td>\n",
              "      <td>511</td>\n",
              "      <td>0.0</td>\n",
              "      <td>0</td>\n",
              "    </tr>\n",
              "  </tbody>\n",
              "</table>\n",
              "</div>"
            ],
            "text/plain": [
              "   CO_POSICAO SG_AREA  CO_ITEM  ... CO_PROVA  TP_LINGUA IN_ITEM_ADAPTADO\n",
              "0           1      LC    55166  ...      511        0.0                0\n",
              "1           2      LC    54110  ...      511        0.0                0\n",
              "2           3      LC    23564  ...      511        0.0                0\n",
              "3           4      LC    31954  ...      511        0.0                0\n",
              "4           5      LC   118180  ...      511        0.0                0\n",
              "\n",
              "[5 rows x 9 columns]"
            ]
          },
          "metadata": {
            "tags": []
          },
          "execution_count": 7
        }
      ]
    },
    {
      "cell_type": "markdown",
      "metadata": {
        "id": "hhIJ6LKTL8DV",
        "colab_type": "text"
      },
      "source": [
        "O nosso DataFrame contém as provas de todas as cores, mas só é necessário uma prova, já que as questões são as mesmas."
      ]
    },
    {
      "cell_type": "code",
      "metadata": {
        "id": "vqDWwm_WMoGV",
        "colab_type": "code",
        "colab": {
          "base_uri": "https://localhost:8080/",
          "height": 204
        },
        "outputId": "1a446417-1342-4996-c888-2c600daf0cbe"
      },
      "source": [
        "df_amarela = df[(df['TX_COR'] == 'Amarela')]\n",
        "\n",
        "df_amarela.head()"
      ],
      "execution_count": 9,
      "outputs": [
        {
          "output_type": "execute_result",
          "data": {
            "text/html": [
              "<div>\n",
              "<style scoped>\n",
              "    .dataframe tbody tr th:only-of-type {\n",
              "        vertical-align: middle;\n",
              "    }\n",
              "\n",
              "    .dataframe tbody tr th {\n",
              "        vertical-align: top;\n",
              "    }\n",
              "\n",
              "    .dataframe thead th {\n",
              "        text-align: right;\n",
              "    }\n",
              "</style>\n",
              "<table border=\"1\" class=\"dataframe\">\n",
              "  <thead>\n",
              "    <tr style=\"text-align: right;\">\n",
              "      <th></th>\n",
              "      <th>CO_POSICAO</th>\n",
              "      <th>SG_AREA</th>\n",
              "      <th>CO_ITEM</th>\n",
              "      <th>TX_GABARITO</th>\n",
              "      <th>CO_HABILIDADE</th>\n",
              "      <th>TX_COR</th>\n",
              "      <th>CO_PROVA</th>\n",
              "      <th>TP_LINGUA</th>\n",
              "      <th>IN_ITEM_ADAPTADO</th>\n",
              "    </tr>\n",
              "  </thead>\n",
              "  <tbody>\n",
              "    <tr>\n",
              "      <th>50</th>\n",
              "      <td>1</td>\n",
              "      <td>LC</td>\n",
              "      <td>31954</td>\n",
              "      <td>B</td>\n",
              "      <td>8</td>\n",
              "      <td>Amarela</td>\n",
              "      <td>512</td>\n",
              "      <td>0.0</td>\n",
              "      <td>0</td>\n",
              "    </tr>\n",
              "    <tr>\n",
              "      <th>51</th>\n",
              "      <td>2</td>\n",
              "      <td>LC</td>\n",
              "      <td>55166</td>\n",
              "      <td>B</td>\n",
              "      <td>7</td>\n",
              "      <td>Amarela</td>\n",
              "      <td>512</td>\n",
              "      <td>0.0</td>\n",
              "      <td>0</td>\n",
              "    </tr>\n",
              "    <tr>\n",
              "      <th>52</th>\n",
              "      <td>3</td>\n",
              "      <td>LC</td>\n",
              "      <td>118180</td>\n",
              "      <td>E</td>\n",
              "      <td>5</td>\n",
              "      <td>Amarela</td>\n",
              "      <td>512</td>\n",
              "      <td>0.0</td>\n",
              "      <td>0</td>\n",
              "    </tr>\n",
              "    <tr>\n",
              "      <th>53</th>\n",
              "      <td>4</td>\n",
              "      <td>LC</td>\n",
              "      <td>54110</td>\n",
              "      <td>D</td>\n",
              "      <td>7</td>\n",
              "      <td>Amarela</td>\n",
              "      <td>512</td>\n",
              "      <td>0.0</td>\n",
              "      <td>0</td>\n",
              "    </tr>\n",
              "    <tr>\n",
              "      <th>54</th>\n",
              "      <td>5</td>\n",
              "      <td>LC</td>\n",
              "      <td>23564</td>\n",
              "      <td>A</td>\n",
              "      <td>6</td>\n",
              "      <td>Amarela</td>\n",
              "      <td>512</td>\n",
              "      <td>0.0</td>\n",
              "      <td>0</td>\n",
              "    </tr>\n",
              "  </tbody>\n",
              "</table>\n",
              "</div>"
            ],
            "text/plain": [
              "    CO_POSICAO SG_AREA  CO_ITEM  ... CO_PROVA  TP_LINGUA IN_ITEM_ADAPTADO\n",
              "50           1      LC    31954  ...      512        0.0                0\n",
              "51           2      LC    55166  ...      512        0.0                0\n",
              "52           3      LC   118180  ...      512        0.0                0\n",
              "53           4      LC    54110  ...      512        0.0                0\n",
              "54           5      LC    23564  ...      512        0.0                0\n",
              "\n",
              "[5 rows x 9 columns]"
            ]
          },
          "metadata": {
            "tags": []
          },
          "execution_count": 9
        }
      ]
    },
    {
      "cell_type": "markdown",
      "metadata": {
        "id": "hyZDQapFP0fq",
        "colab_type": "text"
      },
      "source": [
        "Aqui podemos ver que Linguagens e Códigos tem 10 questões a mais que as outras, isso ocorre devido às questões de língua estrangeira que o aluno escolhe 5 de Inglês ou de Espanhol."
      ]
    },
    {
      "cell_type": "code",
      "metadata": {
        "id": "4rINXuo1PIw9",
        "colab_type": "code",
        "colab": {
          "base_uri": "https://localhost:8080/",
          "height": 204
        },
        "outputId": "906d7a59-da71-4ca3-f2ae-b8b7e3c9b647"
      },
      "source": [
        "df_amarela.groupby('SG_AREA').count()"
      ],
      "execution_count": 16,
      "outputs": [
        {
          "output_type": "execute_result",
          "data": {
            "text/html": [
              "<div>\n",
              "<style scoped>\n",
              "    .dataframe tbody tr th:only-of-type {\n",
              "        vertical-align: middle;\n",
              "    }\n",
              "\n",
              "    .dataframe tbody tr th {\n",
              "        vertical-align: top;\n",
              "    }\n",
              "\n",
              "    .dataframe thead th {\n",
              "        text-align: right;\n",
              "    }\n",
              "</style>\n",
              "<table border=\"1\" class=\"dataframe\">\n",
              "  <thead>\n",
              "    <tr style=\"text-align: right;\">\n",
              "      <th></th>\n",
              "      <th>CO_POSICAO</th>\n",
              "      <th>CO_ITEM</th>\n",
              "      <th>TX_GABARITO</th>\n",
              "      <th>CO_HABILIDADE</th>\n",
              "      <th>TX_COR</th>\n",
              "      <th>CO_PROVA</th>\n",
              "      <th>TP_LINGUA</th>\n",
              "      <th>IN_ITEM_ADAPTADO</th>\n",
              "    </tr>\n",
              "    <tr>\n",
              "      <th>SG_AREA</th>\n",
              "      <th></th>\n",
              "      <th></th>\n",
              "      <th></th>\n",
              "      <th></th>\n",
              "      <th></th>\n",
              "      <th></th>\n",
              "      <th></th>\n",
              "      <th></th>\n",
              "    </tr>\n",
              "  </thead>\n",
              "  <tbody>\n",
              "    <tr>\n",
              "      <th>CH</th>\n",
              "      <td>90</td>\n",
              "      <td>90</td>\n",
              "      <td>90</td>\n",
              "      <td>90</td>\n",
              "      <td>90</td>\n",
              "      <td>90</td>\n",
              "      <td>0</td>\n",
              "      <td>90</td>\n",
              "    </tr>\n",
              "    <tr>\n",
              "      <th>CN</th>\n",
              "      <td>90</td>\n",
              "      <td>90</td>\n",
              "      <td>90</td>\n",
              "      <td>90</td>\n",
              "      <td>90</td>\n",
              "      <td>90</td>\n",
              "      <td>0</td>\n",
              "      <td>90</td>\n",
              "    </tr>\n",
              "    <tr>\n",
              "      <th>LC</th>\n",
              "      <td>100</td>\n",
              "      <td>100</td>\n",
              "      <td>100</td>\n",
              "      <td>100</td>\n",
              "      <td>100</td>\n",
              "      <td>100</td>\n",
              "      <td>20</td>\n",
              "      <td>100</td>\n",
              "    </tr>\n",
              "    <tr>\n",
              "      <th>MT</th>\n",
              "      <td>90</td>\n",
              "      <td>90</td>\n",
              "      <td>90</td>\n",
              "      <td>90</td>\n",
              "      <td>90</td>\n",
              "      <td>90</td>\n",
              "      <td>0</td>\n",
              "      <td>90</td>\n",
              "    </tr>\n",
              "  </tbody>\n",
              "</table>\n",
              "</div>"
            ],
            "text/plain": [
              "         CO_POSICAO  CO_ITEM  ...  TP_LINGUA  IN_ITEM_ADAPTADO\n",
              "SG_AREA                       ...                             \n",
              "CH               90       90  ...          0                90\n",
              "CN               90       90  ...          0                90\n",
              "LC              100      100  ...         20               100\n",
              "MT               90       90  ...          0                90\n",
              "\n",
              "[4 rows x 8 columns]"
            ]
          },
          "metadata": {
            "tags": []
          },
          "execution_count": 16
        }
      ]
    },
    {
      "cell_type": "markdown",
      "metadata": {
        "id": "Jhftbac0XAC_",
        "colab_type": "text"
      },
      "source": [
        "Sendo assim, agora podemos procurar pelas habilidades de cada prova, criando um DataFrame para cada Matriz."
      ]
    },
    {
      "cell_type": "code",
      "metadata": {
        "id": "jG-Mo4f-Q8qJ",
        "colab_type": "code",
        "colab": {}
      },
      "source": [
        "#Linguagens e Códigos\n",
        "df_lc = df_amarela[(df_amarela['SG_AREA'] == 'LC')]\n",
        "#Ciências Humanas\n",
        "df_ch = df_amarela[(df_amarela['SG_AREA'] == 'CH')]\n",
        "#Ciências da Natureza\n",
        "df_cn = df_amarela[(df_amarela['SG_AREA'] == 'CN')]\n",
        "#Matemática\n",
        "df_mt = df_amarela[(df_amarela['SG_AREA'] == 'MT')]"
      ],
      "execution_count": 72,
      "outputs": []
    },
    {
      "cell_type": "markdown",
      "metadata": {
        "id": "8fwCuIhuSgOU",
        "colab_type": "text"
      },
      "source": [
        "Como só nos interessa analisar a prova de Ciências Humanas, criamos uma série com as habilidades de cada questão."
      ]
    },
    {
      "cell_type": "code",
      "metadata": {
        "id": "f2vPfkCrSyUX",
        "colab_type": "code",
        "colab": {}
      },
      "source": [
        "ch = df_ch['CO_HABILIDADE'].sort_values()\n"
      ],
      "execution_count": 74,
      "outputs": []
    },
    {
      "cell_type": "markdown",
      "metadata": {
        "id": "bubQWrpAcOLP",
        "colab_type": "text"
      },
      "source": [
        "Agora é possível achar a habilidade que foi mais cobrada, basta calcular a moda dessa série. Assim, descobrimos que temos 3 habilidades empatadas como as que mais caíram na prova.\n",
        "São elas:\n",
        "\n",
        "\n",
        "*   H11 – Identificar registros de práticas de grupos sociais no tempo e no espaço.\n",
        "*   H15 – Avaliar criticamente conflitos culturais, sociais, políticos, econômicos ou ambientais ao longo da história.\n",
        "*H23 – Analisar a importância dos valores éticos na estruturação política das sociedades.\n"
      ]
    },
    {
      "cell_type": "code",
      "metadata": {
        "id": "MajFElIxccOP",
        "colab_type": "code",
        "colab": {
          "base_uri": "https://localhost:8080/",
          "height": 85
        },
        "outputId": "095ac03b-a63f-4f6e-bc23-2e5be2672822"
      },
      "source": [
        "ch.mode()"
      ],
      "execution_count": 83,
      "outputs": [
        {
          "output_type": "execute_result",
          "data": {
            "text/plain": [
              "0    11\n",
              "1    15\n",
              "2    23\n",
              "dtype: int64"
            ]
          },
          "metadata": {
            "tags": []
          },
          "execution_count": 83
        }
      ]
    },
    {
      "cell_type": "markdown",
      "metadata": {
        "id": "Du79SbmYelwf",
        "colab_type": "text"
      },
      "source": [
        "Para descobrir quantas foram as questões dessas habilidades que mais caíram basta utilizar o método count_values() e saber a ocorrência de cada habilidade. Assim, descobrimos que cada uma dessas três habilidades caiu em 6 questões diferentes."
      ]
    },
    {
      "cell_type": "code",
      "metadata": {
        "id": "a5sB-LLlcrth",
        "colab_type": "code",
        "colab": {
          "base_uri": "https://localhost:8080/",
          "height": 544
        },
        "outputId": "55779ebf-77c8-4026-d994-7752b37f1e2d"
      },
      "source": [
        "ch.value_counts()"
      ],
      "execution_count": 86,
      "outputs": [
        {
          "output_type": "execute_result",
          "data": {
            "text/plain": [
              "15    6\n",
              "23    6\n",
              "11    6\n",
              "2     4\n",
              "5     4\n",
              "7     4\n",
              "8     4\n",
              "1     4\n",
              "27    4\n",
              "26    4\n",
              "24    3\n",
              "20    3\n",
              "3     3\n",
              "17    3\n",
              "4     3\n",
              "6     3\n",
              "12    3\n",
              "9     2\n",
              "28    2\n",
              "22    2\n",
              "21    2\n",
              "14    2\n",
              "29    2\n",
              "16    2\n",
              "18    2\n",
              "19    2\n",
              "30    2\n",
              "10    1\n",
              "25    1\n",
              "13    1\n",
              "Name: CO_HABILIDADE, dtype: int64"
            ]
          },
          "metadata": {
            "tags": []
          },
          "execution_count": 86
        }
      ]
    }
  ]
}